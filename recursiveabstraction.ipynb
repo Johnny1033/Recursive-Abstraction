{
 "cells": [
  {
   "cell_type": "code",
   "execution_count": null,
   "metadata": {},
   "outputs": [],
   "source": [
    "import boto3\n",
    "import nltk\n",
    "import openai\n",
    "import pandas as pd\n",
    "from io import StringIO\n",
    "\n",
    "# Constants and configurations\n",
    "bucket_name = 'your-bucket-name'\n",
    "s3_filename = 'book_to_summarize'\n",
    "openai.api_key = 'your-api-key'\n",
    "s3 = boto3.client('s3')\n",
    "comprehend = boto3.client('comprehend', region_name='us-west-2')\n"
   ]
  },
  {
   "cell_type": "code",
   "execution_count": null,
   "metadata": {},
   "outputs": [],
   "source": [
    "def detect_sentiment_scores(text):\n",
    "    response = comprehend.detect_sentiment(Text=text, LanguageCode='en')\n",
    "    scores = response['SentimentScore']\n",
    "    return scores\n",
    "\n",
    "def detect_entities(text):\n",
    "    response = comprehend.detect_entities(Text=text, LanguageCode='en')\n",
    "    entities = response['Entities']\n",
    "    names_and_places = [entity['Text'] for entity in entities if entity['Type'] in ['PERSON', 'LOCATION']]\n",
    "    return ', '.join(names_and_places)\n",
    "\n",
    "def detect_sentiment(text):\n",
    "    response = comprehend.detect_sentiment(Text=text, LanguageCode='en')\n",
    "    return response['Sentiment']\n",
    "\n",
    "def generate_summary(text, prompt):\n",
    "    response = openai.ChatCompletion.create(\n",
    "        model=\"gpt-3.5-turbo\",\n",
    "        messages=[\n",
    "            {\"role\": \"system\", \"content\": \"You are a helpful assistant.\"},\n",
    "            {\"role\": \"user\", \"content\": f\"{prompt}:\\n\\n{text}\"}\n",
    "        ],\n",
    "        max_tokens=2500,\n",
    "        n=1,\n",
    "        temperature=0.7,\n",
    "    )\n",
    "    summary = response.choices[0].message.content.strip()\n",
    "    return summary\n",
    "\n",
    "def generate_meta_summary(summaries):\n",
    "    text = \"\\n\\n\".join(summaries)\n",
    "    prompt = \"Create a meta summary of these summaries\"\n",
    "    response = openai.ChatCompletion.create(\n",
    "        model=\"gpt-3.5-turbo\",\n",
    "        messages=[\n",
    "            {\"role\": \"system\", \"content\": \"You are a helpful assistant.\"},\n",
    "            {\"role\": \"user\", \"content\": f\"{prompt}:\\n\\n{text}\"}\n",
    "        ],\n",
    "        max_tokens=2500,\n",
    "        n=1,\n",
    "        temperature=0.7,\n",
    "    )\n",
    "    meta_summary = response.choices[0].message.content.strip()\n",
    "    return meta_summary\n",
    "\n",
    "def process_text_chunk(bucket_name, chunk, counter):\n",
    "    filename = f'book_url_chunk{counter}.txt'\n",
    "\n",
    "    # Write the chunk to a temporary file\n",
    "    with open(filename, 'w') as f:\n",
    "        f.write(' '.join(chunk))\n",
    "\n",
    "    # Upload the file to S3\n",
    "    s3.upload_file(Filename=filename, Bucket=bucket_name, Key=filename)\n",
    "\n",
    "    # Get the file content\n",
    "    file_obj = s3.get_object(Bucket=bucket_name, Key=filename)\n",
    "    file_content = file_obj['Body'].read().decode('utf-8')\n",
    "\n",
    "    # Generate chunksummary\n",
    "    prompt = \"Create a summary of this text\"\n",
    "    chunksummary = generate_summary(file_content, prompt)\n",
    "\n",
    "    return (filename, chunksummary)\n"
   ]
  },
  {
   "cell_type": "code",
   "execution_count": null,
   "metadata": {},
   "outputs": [],
   "source": [
    "file_obj = s3.get_object(Bucket=bucket_name, Key=s3_filename)\n",
    "file_content = file_obj['Body'].read().decode('utf-8')\n",
    "\n",
    "tokens = nltk.word_tokenize(file_content)\n"
   ]
  }
 ],
 "metadata": {
  "kernelspec": {
   "display_name": "Python 3",
   "language": "python",
   "name": "python3"
  },
  "language_info": {
   "name": "python",
   "version": "3.11.1 (v3.11.1:a7a450f84a, Dec  6 2022, 15:24:06) [Clang 13.0.0 (clang-1300.0.29.30)]"
  },
  "orig_nbformat": 4,
  "vscode": {
   "interpreter": {
    "hash": "aee8b7b246df8f9039afb4144a1f6fd8d2ca17a180786b69acc140d282b71a49"
   }
  }
 },
 "nbformat": 4,
 "nbformat_minor": 2
}
